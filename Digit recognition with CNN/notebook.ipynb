# Predicting label of my own handwritten 4:

import imageio
import numpy as np
from matplotlib import pyplot as plt

# Custom picture of numbers
im = imageio.imread("https://i.imgur.com/JkIAn8o.png")

# Concerting RGB to gray
gray = np.dot(im[...,:3], [0.299, 0.587, 0.114])
plt.imshow(gray, cmap = plt.get_cmap('gray'))
plt.show()

# reshape the image
gray = gray.reshape(1, 28, 28, 1)

# normalize image
gray /= 255

# load the model
from keras.models import load_model
model = load_model("digits.h5")

# predict digit
prediction = model.predict(gray)
print(prediction.argmax())
